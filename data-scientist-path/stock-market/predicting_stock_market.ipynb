{
 "cells": [
  {
   "cell_type": "code",
   "execution_count": 1,
   "metadata": {},
   "outputs": [],
   "source": [
    "import pandas as pd\n",
    "\n",
    "df_raw = pd.read_csv('sphist.csv')"
   ]
  },
  {
   "cell_type": "code",
   "execution_count": 2,
   "metadata": {},
   "outputs": [
    {
     "name": "stdout",
     "output_type": "stream",
     "text": [
      "<class 'pandas.core.frame.DataFrame'>\n",
      "RangeIndex: 16590 entries, 0 to 16589\n",
      "Data columns (total 7 columns):\n",
      " #   Column     Non-Null Count  Dtype  \n",
      "---  ------     --------------  -----  \n",
      " 0   Date       16590 non-null  object \n",
      " 1   Open       16590 non-null  float64\n",
      " 2   High       16590 non-null  float64\n",
      " 3   Low        16590 non-null  float64\n",
      " 4   Close      16590 non-null  float64\n",
      " 5   Volume     16590 non-null  float64\n",
      " 6   Adj Close  16590 non-null  float64\n",
      "dtypes: float64(6), object(1)\n",
      "memory usage: 907.4+ KB\n"
     ]
    }
   ],
   "source": [
    "df_raw.info()"
   ]
  },
  {
   "cell_type": "markdown",
   "metadata": {},
   "source": [
    "# Task: predict stock prices\n",
    "Perform training on data from 1950-2012 and perform predictions on 2013-2015."
   ]
  },
  {
   "cell_type": "code",
   "execution_count": 3,
   "metadata": {},
   "outputs": [],
   "source": [
    "def convert_and_sort(df):\n",
    "    new_cols = df.columns.str.lower().str.replace(' ', '_')\n",
    "    df.columns = new_cols\n",
    "    df['date'] = pd.to_datetime(df['date'])\n",
    "    df_output = df.sort_values(by='date')\n",
    "    return df_output.reset_index(drop=True)\n",
    "\n",
    "df = convert_and_sort(df_raw)"
   ]
  },
  {
   "cell_type": "code",
   "execution_count": 4,
   "metadata": {},
   "outputs": [
    {
     "data": {
      "text/plain": [
       "16.9"
      ]
     },
     "execution_count": 4,
     "metadata": {},
     "output_type": "execute_result"
    }
   ],
   "source": [
    "df['close'].iloc[0:5].mean()"
   ]
  },
  {
   "cell_type": "code",
   "execution_count": 5,
   "metadata": {},
   "outputs": [
    {
     "data": {
      "text/plain": [
       "0          16.660000\n",
       "1          16.850000\n",
       "2          16.930000\n",
       "3          16.980000\n",
       "4          17.080000\n",
       "            ...     \n",
       "16585    2102.629883\n",
       "16586    2079.510010\n",
       "16587    2049.620117\n",
       "16588    2091.689941\n",
       "16589    2077.070068\n",
       "Name: close, Length: 16590, dtype: float64"
      ]
     },
     "execution_count": 5,
     "metadata": {},
     "output_type": "execute_result"
    }
   ],
   "source": [
    "df['close']"
   ]
  },
  {
   "cell_type": "code",
   "execution_count": 6,
   "metadata": {},
   "outputs": [],
   "source": [
    "def calculate_rolling_avg(win=[5,30,365]):\n",
    "    # must avoid to take current day, hence we shift values by 1 onwards\n",
    "    for w in win:\n",
    "        df[f'rolling_avg_{w}_close'] = df['close'].rolling(window=w).mean().shift(1)\n",
    "    return df\n",
    "\n",
    "df = calculate_rolling_avg()"
   ]
  },
  {
   "cell_type": "code",
   "execution_count": 7,
   "metadata": {},
   "outputs": [
    {
     "data": {
      "text/plain": [
       "0       NaN\n",
       "1       NaN\n",
       "2       NaN\n",
       "3       NaN\n",
       "4       NaN\n",
       "5    16.900\n",
       "6    16.974\n",
       "7    17.022\n",
       "8    16.988\n",
       "9    16.926\n",
       "Name: rolling_avg_5_close, dtype: float64"
      ]
     },
     "execution_count": 7,
     "metadata": {},
     "output_type": "execute_result"
    }
   ],
   "source": [
    "df['rolling_avg_5_close'].head(10)"
   ]
  },
  {
   "cell_type": "code",
   "execution_count": 8,
   "metadata": {},
   "outputs": [
    {
     "data": {
      "text/html": [
       "<div>\n",
       "<style scoped>\n",
       "    .dataframe tbody tr th:only-of-type {\n",
       "        vertical-align: middle;\n",
       "    }\n",
       "\n",
       "    .dataframe tbody tr th {\n",
       "        vertical-align: top;\n",
       "    }\n",
       "\n",
       "    .dataframe thead th {\n",
       "        text-align: right;\n",
       "    }\n",
       "</style>\n",
       "<table border=\"1\" class=\"dataframe\">\n",
       "  <thead>\n",
       "    <tr style=\"text-align: right;\">\n",
       "      <th></th>\n",
       "      <th>close</th>\n",
       "      <th>mean</th>\n",
       "    </tr>\n",
       "  </thead>\n",
       "  <tbody>\n",
       "    <tr>\n",
       "      <th>3</th>\n",
       "      <td>16.980000</td>\n",
       "      <td>16.988</td>\n",
       "    </tr>\n",
       "    <tr>\n",
       "      <th>4</th>\n",
       "      <td>17.080000</td>\n",
       "      <td>16.988</td>\n",
       "    </tr>\n",
       "    <tr>\n",
       "      <th>5</th>\n",
       "      <td>17.030001</td>\n",
       "      <td>16.988</td>\n",
       "    </tr>\n",
       "    <tr>\n",
       "      <th>6</th>\n",
       "      <td>17.090000</td>\n",
       "      <td>16.988</td>\n",
       "    </tr>\n",
       "    <tr>\n",
       "      <th>7</th>\n",
       "      <td>16.760000</td>\n",
       "      <td>16.988</td>\n",
       "    </tr>\n",
       "  </tbody>\n",
       "</table>\n",
       "</div>"
      ],
      "text/plain": [
       "       close    mean\n",
       "3  16.980000  16.988\n",
       "4  17.080000  16.988\n",
       "5  17.030001  16.988\n",
       "6  17.090000  16.988\n",
       "7  16.760000  16.988"
      ]
     },
     "execution_count": 8,
     "metadata": {},
     "output_type": "execute_result"
    }
   ],
   "source": [
    "def check_validity_win_5(df, start):\n",
    "    end = start + 5\n",
    "    #check first n rows\n",
    "    output = df['close'].iloc[start:end].to_frame()\n",
    "    output['mean'] = output['close'].mean()   \n",
    "    return output\n",
    "\n",
    "check_validity_win_5(df, start=3)"
   ]
  },
  {
   "cell_type": "code",
   "execution_count": 9,
   "metadata": {},
   "outputs": [],
   "source": [
    "def generate_train_test(data, split_date = '2013-01-01'):\n",
    "    df_nonulls = data.dropna(axis=0)\n",
    "    train = df_nonulls[df_nonulls['date'] < split_date]\n",
    "    test = df_nonulls[df_nonulls['date'] >= split_date]\n",
    "    return train, test\n",
    "\n",
    "train, test = generate_train_test(df)"
   ]
  },
  {
   "cell_type": "markdown",
   "metadata": {},
   "source": [
    "# Test LR model\n",
    "We take MAE as an error metric and initialize a LinearRegression over it."
   ]
  },
  {
   "cell_type": "code",
   "execution_count": 10,
   "metadata": {},
   "outputs": [],
   "source": [
    "import numpy as np\n",
    "from sklearn.linear_model import LinearRegression\n",
    "from sklearn.metrics import mean_squared_error"
   ]
  },
  {
   "cell_type": "code",
   "execution_count": 11,
   "metadata": {},
   "outputs": [],
   "source": [
    "def fit_and_predict(train, test, features, target='close'):\n",
    "    lr = LinearRegression()\n",
    "    \n",
    "    X_train = train[features]\n",
    "    y_train = train[target]\n",
    "    X_test = test[features]\n",
    "    y_test = test[target]\n",
    "\n",
    "    # train the model\n",
    "    lr.fit(X_train, y_train)\n",
    "\n",
    "    # predict\n",
    "    test['yhat'] = lr.predict(X_test)\n",
    "    \n",
    "    # print error\n",
    "    mse = mean_squared_error(test[target], test['yhat'])\n",
    "    rmse = np.sqrt(mse)\n",
    "    r2 = lr.score(X_train, y_train)\n",
    "    print('MSE: {}, \\nRMSE: {}, \\nR-squared: {}'.format(mse, rmse, r2))\n",
    "    return test"
   ]
  },
  {
   "cell_type": "code",
   "execution_count": 12,
   "metadata": {},
   "outputs": [
    {
     "data": {
      "text/plain": [
       "Index(['date', 'open', 'high', 'low', 'close', 'volume', 'adj_close',\n",
       "       'rolling_avg_5_close', 'rolling_avg_30_close', 'rolling_avg_365_close'],\n",
       "      dtype='object')"
      ]
     },
     "execution_count": 12,
     "metadata": {},
     "output_type": "execute_result"
    }
   ],
   "source": [
    "df.columns"
   ]
  },
  {
   "cell_type": "code",
   "execution_count": 13,
   "metadata": {},
   "outputs": [
    {
     "name": "stdout",
     "output_type": "stream",
     "text": [
      "MSE: 493.7313030125896, \n",
      "RMSE: 22.220065324219675, \n",
      "R-squared: 0.9995215140197241\n"
     ]
    }
   ],
   "source": [
    "features =  [col for col in df.columns if col.startswith('rolling')]\n",
    "\n",
    "preds = fit_and_predict(train, test, features)"
   ]
  },
  {
   "cell_type": "code",
   "execution_count": 14,
   "metadata": {},
   "outputs": [
    {
     "data": {
      "text/plain": [
       "<AxesSubplot:xlabel='date'>"
      ]
     },
     "execution_count": 14,
     "metadata": {},
     "output_type": "execute_result"
    },
    {
     "data": {
      "image/png": "[encoded data removed]",
      "text/plain": [
       "<Figure size 432x288 with 1 Axes>"
      ]
     },
     "metadata": {
      "needs_background": "light"
     },
     "output_type": "display_data"
    }
   ],
   "source": [
    "import matplotlib.pyplot as plt\n",
    "test.set_index('date')[['close','yhat']].plot()"
   ]
  }
 ],
 "metadata": {
  "kernelspec": {
   "display_name": "Python 3",
   "language": "python",
   "name": "python3"
  },
  "language_info": {
   "codemirror_mode": {
    "name": "ipython",
    "version": 3
   },
   "file_extension": ".py",
   "mimetype": "text/x-python",
   "name": "python",
   "nbconvert_exporter": "python",
   "pygments_lexer": "ipython3",
   "version": "3.7.9"
  }
 },
 "nbformat": 4,
 "nbformat_minor": 4
}
